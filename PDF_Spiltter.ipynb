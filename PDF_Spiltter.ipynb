{
  "nbformat": 4,
  "nbformat_minor": 0,
  "metadata": {
    "colab": {
      "provenance": [],
      "authorship_tag": "ABX9TyOD+Vhjr6mferPLmo9bhBEZ",
      "include_colab_link": true
    },
    "kernelspec": {
      "name": "python3",
      "display_name": "Python 3"
    },
    "language_info": {
      "name": "python"
    }
  },
  "cells": [
    {
      "cell_type": "markdown",
      "metadata": {
        "id": "view-in-github",
        "colab_type": "text"
      },
      "source": [
        "<a href=\"https://colab.research.google.com/github/maulikk3/PDDF-SPILTTER/blob/main/PDF_Spiltter.ipynb\" target=\"_parent\"><img src=\"https://colab.research.google.com/assets/colab-badge.svg\" alt=\"Open In Colab\"/></a>"
      ]
    },
    {
      "cell_type": "markdown",
      "source": [
        "INSTALL THE LIBRARIES"
      ],
      "metadata": {
        "id": "KTaNIDxFRqU5"
      }
    },
    {
      "cell_type": "code",
      "execution_count": 6,
      "metadata": {
        "colab": {
          "base_uri": "https://localhost:8080/"
        },
        "id": "nrJADePpRnUW",
        "outputId": "53d7c95e-46c0-4b4d-c0a0-00ccb1dc0cb3"
      },
      "outputs": [
        {
          "output_type": "stream",
          "name": "stdout",
          "text": [
            "Requirement already satisfied: PyPDF2 in /usr/local/lib/python3.11/dist-packages (3.0.1)\n"
          ]
        }
      ],
      "source": [
        "!pip install PyPDF2\n"
      ]
    },
    {
      "cell_type": "code",
      "source": [
        "import os\n",
        "from PyPDF2 import PdfReader, PdfWriter\n",
        "\n",
        "def split_pdf(input_pdf, output_dir, split_page):\n",
        "    if not os.path.exists(output_dir):\n",
        "        os.makedirs(output_dir)\n",
        "\n",
        "    pdf = PdfReader(open(input_pdf, \"rb\"))\n",
        "    total_pages = len(pdf.pages)\n",
        "\n",
        "    if split_page < 1 or split_page >= total_pages:\n",
        "        raise ValueError(\"Split page number must be between 1 and the total number of pages minus one.\")\n",
        "\n",
        "    part1_writer = PdfWriter()\n",
        "    part2_writer = PdfWriter()\n",
        "\n",
        "    for page_num in range(total_pages):\n",
        "        if page_num < split_page:\n",
        "            part1_writer.add_page(pdf.pages[page_num])\n",
        "        else:\n",
        "            part2_writer.add_page(pdf.pages[page_num])\n",
        "\n",
        "    # Save the two parts\n",
        "    part1_filename = os.path.join(output_dir, 'part1.pdf')\n",
        "    part2_filename = os.path.join(output_dir, 'part2.pdf')\n",
        "\n",
        "    with open(part1_filename, 'wb') as part1_pdf:\n",
        "        part1_writer.write(part1_pdf)\n",
        "\n",
        "    with open(part2_filename, 'wb') as part2_pdf:\n",
        "        part2_writer.write(part2_pdf)\n",
        "\n",
        "    print(f'Created: {part1_filename}')\n",
        "    print(f'Created: {part2_filename}')\n",
        "\n",
        "if __name__ == \"__main__\":\n",
        "    input_pdf = '/content/Research.pdf'  # Replace with the path to your input PDF file\n",
        "    output_dir = '/content/output'  # Replace with the directory where you want to save the output PDFs\n",
        "    split_page = int(input(\"Enter the page number where you want to split the PDF: \"))\n",
        "    split_pdf(input_pdf, output_dir, split_page)\n"
      ],
      "metadata": {
        "colab": {
          "base_uri": "https://localhost:8080/"
        },
        "id": "cEswFkcSR-Aw",
        "outputId": "c297745e-5e14-46ec-d278-84199a605fcd"
      },
      "execution_count": 10,
      "outputs": [
        {
          "output_type": "stream",
          "name": "stdout",
          "text": [
            "Enter the page number where you want to split the PDF: 6\n",
            "Created: /content/output/part1.pdf\n",
            "Created: /content/output/part2.pdf\n"
          ]
        }
      ]
    }
  ]
}